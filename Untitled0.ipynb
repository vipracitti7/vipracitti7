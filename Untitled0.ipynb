{
  "nbformat": 4,
  "nbformat_minor": 0,
  "metadata": {
    "colab": {
      "provenance": [],
      "authorship_tag": "ABX9TyMpFrBHJoJ1ZqQca+3rGRkJ",
      "include_colab_link": true
    },
    "kernelspec": {
      "name": "python3",
      "display_name": "Python 3"
    },
    "language_info": {
      "name": "python"
    }
  },
  "cells": [
    {
      "cell_type": "markdown",
      "metadata": {
        "id": "view-in-github",
        "colab_type": "text"
      },
      "source": [
        "<a href=\"https://colab.research.google.com/github/vipracitti7/vipracitti7/blob/main/Untitled0.ipynb\" target=\"_parent\"><img src=\"https://colab.research.google.com/assets/colab-badge.svg\" alt=\"Open In Colab\"/></a>"
      ]
    },
    {
      "cell_type": "markdown",
      "source": [
        "# Jason Haddix Methodology\n",
        "\n",
        "[The Bug Hunter's Methodology v4.0 - Recon Edition by jason haddix](https://youtu.be/p4JgIu1mceI?si=p8DA7Jkz0134E5f1)"
      ],
      "metadata": {
        "id": "S2B_p31k9E1O"
      }
    },
    {
      "cell_type": "markdown",
      "source": [
        "what is important is : project tracking/ use a method to track your work otherwise you'll get confused.\n",
        "Xmind is a app use to create mind maps for project tracking\n",
        "\n",
        "wide Recon is the art of discovering as many assts related to a target as possible.\n",
        "Make sure your scope permits testing these sites."
      ],
      "metadata": {
        "id": "7ZBswL1G948k"
      }
    },
    {
      "cell_type": "markdown",
      "source": [],
      "metadata": {
        "id": "RHNuZHUw-DQ2"
      }
    }
  ]
}